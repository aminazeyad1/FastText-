{
  "cells": [
    {
      "cell_type": "markdown",
      "metadata": {
        "id": "view-in-github",
        "colab_type": "text"
      },
      "source": [
        "<a href=\"https://colab.research.google.com/github/aminazeyad1/FastText-/blob/main/20200097_20200106_20200566.ipynb\" target=\"_parent\"><img src=\"https://colab.research.google.com/assets/colab-badge.svg\" alt=\"Open In Colab\"/></a>"
      ]
    },
    {
      "cell_type": "markdown",
      "metadata": {
        "id": "JZT5sSu4o8Ru"
      },
      "source": [
        "# 20200566\n",
        "# 20200106\n",
        "# 20200097"
      ]
    },
    {
      "cell_type": "code",
      "execution_count": null,
      "metadata": {
        "execution": {
          "iopub.execute_input": "2024-04-21T06:59:44.345234Z",
          "iopub.status.busy": "2024-04-21T06:59:44.344129Z",
          "iopub.status.idle": "2024-04-21T06:59:44.893935Z",
          "shell.execute_reply": "2024-04-21T06:59:44.892968Z",
          "shell.execute_reply.started": "2024-04-21T06:59:44.345175Z"
        },
        "trusted": true,
        "id": "perCtmJvo8Rv",
        "outputId": "0eb602f9-6e31-4671-fe7e-8c2a2bddc5b2"
      },
      "outputs": [
        {
          "name": "stdout",
          "output_type": "stream",
          "text": [
            "[nltk_data] Downloading package punkt to /usr/share/nltk_data...\n",
            "[nltk_data]   Package punkt is already up-to-date!\n",
            "[nltk_data] Downloading package stopwords to /usr/share/nltk_data...\n",
            "[nltk_data]   Package stopwords is already up-to-date!\n",
            "[nltk_data] Downloading package wordnet to /usr/share/nltk_data...\n",
            "[nltk_data]   Package wordnet is already up-to-date!\n",
            "[nltk_data] Downloading package wordnet to /usr/share/nltk_data...\n",
            "[nltk_data]   Package wordnet is already up-to-date!\n"
          ]
        }
      ],
      "source": [
        "import pandas as pd\n",
        "import json\n",
        "import nltk\n",
        "from nltk.corpus import stopwords\n",
        "from nltk.tokenize import word_tokenize\n",
        "from gensim.models import FastText\n",
        "from gensim.models.fasttext import load_facebook_model\n",
        "import numpy as np\n",
        "import re\n",
        "\n",
        "import random\n",
        "from nltk.stem import WordNetLemmatizer\n",
        "import matplotlib.pyplot as plt\n",
        "from reportlab.lib.pagesizes import letter\n",
        "from reportlab.pdfgen import canvas\n",
        "nltk.download('punkt')\n",
        "nltk.download('stopwords')\n",
        "nltk.download('wordnet')\n",
        "\n",
        "import warnings\n",
        "warnings.filterwarnings('ignore')\n",
        "\n",
        "stop_words = set(stopwords.words('english'))\n",
        "lemmatizer = WordNetLemmatizer()\n"
      ]
    },
    {
      "cell_type": "code",
      "execution_count": null,
      "metadata": {
        "trusted": true,
        "id": "Fhk2zMelo8Ry"
      },
      "outputs": [],
      "source": [
        "nltk.download('wordnet', \"/kaggle/working/nltk_data/\")\n",
        "nltk.download('omw-1.4', \"/kaggle/working/nltk_data/\")\n",
        "! unzip /kaggle/working/nltk_data/corpora/wordnet.zip -d /kaggle/working/nltk_data/corpora\n",
        "! unzip /kaggle/working/nltk_data/corpora/omw-1.4.zip -d /kaggle/working/nltk_data/corpora\n",
        "nltk.data.path.append(\"/kaggle/working/nltk_data/\")"
      ]
    },
    {
      "cell_type": "code",
      "execution_count": null,
      "metadata": {
        "execution": {
          "iopub.execute_input": "2024-04-21T06:59:57.274567Z",
          "iopub.status.busy": "2024-04-21T06:59:57.273887Z",
          "iopub.status.idle": "2024-04-21T07:00:06.581384Z",
          "shell.execute_reply": "2024-04-21T07:00:06.580294Z",
          "shell.execute_reply.started": "2024-04-21T06:59:57.274533Z"
        },
        "trusted": true,
        "id": "UyMmKwd9o8Rz",
        "outputId": "361065c2-078a-4e35-d4ff-40c96face902"
      },
      "outputs": [
        {
          "data": {
            "text/html": [
              "<div>\n",
              "<style scoped>\n",
              "    .dataframe tbody tr th:only-of-type {\n",
              "        vertical-align: middle;\n",
              "    }\n",
              "\n",
              "    .dataframe tbody tr th {\n",
              "        vertical-align: top;\n",
              "    }\n",
              "\n",
              "    .dataframe thead th {\n",
              "        text-align: right;\n",
              "    }\n",
              "</style>\n",
              "<table border=\"1\" class=\"dataframe\">\n",
              "  <thead>\n",
              "    <tr style=\"text-align: right;\">\n",
              "      <th></th>\n",
              "      <th>user_id</th>\n",
              "      <th>business_id</th>\n",
              "      <th>text</th>\n",
              "      <th>date</th>\n",
              "      <th>compliment_count</th>\n",
              "    </tr>\n",
              "  </thead>\n",
              "  <tbody>\n",
              "    <tr>\n",
              "      <th>0</th>\n",
              "      <td>AGNUgVwnZUey3gcPCJ76iw</td>\n",
              "      <td>3uLgwr0qeCNMjKenHJwPGQ</td>\n",
              "      <td>Avengers time with the ladies.</td>\n",
              "      <td>2012-05-18 02:17:21</td>\n",
              "      <td>0</td>\n",
              "    </tr>\n",
              "    <tr>\n",
              "      <th>1</th>\n",
              "      <td>NBN4MgHP9D3cw--SnauTkA</td>\n",
              "      <td>QoezRbYQncpRqyrLH6Iqjg</td>\n",
              "      <td>They have lots of good deserts and tasty cuban...</td>\n",
              "      <td>2013-02-05 18:35:10</td>\n",
              "      <td>0</td>\n",
              "    </tr>\n",
              "    <tr>\n",
              "      <th>2</th>\n",
              "      <td>-copOvldyKh1qr-vzkDEvw</td>\n",
              "      <td>MYoRNLb5chwjQe3c_k37Gg</td>\n",
              "      <td>It's open even when you think it isn't</td>\n",
              "      <td>2013-08-18 00:56:08</td>\n",
              "      <td>0</td>\n",
              "    </tr>\n",
              "    <tr>\n",
              "      <th>3</th>\n",
              "      <td>FjMQVZjSqY8syIO-53KFKw</td>\n",
              "      <td>hV-bABTK-glh5wj31ps_Jw</td>\n",
              "      <td>Very decent fried chicken</td>\n",
              "      <td>2017-06-27 23:05:38</td>\n",
              "      <td>0</td>\n",
              "    </tr>\n",
              "    <tr>\n",
              "      <th>4</th>\n",
              "      <td>ld0AperBXk1h6UbqmM80zw</td>\n",
              "      <td>_uN0OudeJ3Zl_tf6nxg5ww</td>\n",
              "      <td>Appetizers.. platter special for lunch</td>\n",
              "      <td>2012-10-06 19:43:09</td>\n",
              "      <td>0</td>\n",
              "    </tr>\n",
              "    <tr>\n",
              "      <th>...</th>\n",
              "      <td>...</td>\n",
              "      <td>...</td>\n",
              "      <td>...</td>\n",
              "      <td>...</td>\n",
              "      <td>...</td>\n",
              "    </tr>\n",
              "    <tr>\n",
              "      <th>908910</th>\n",
              "      <td>eYodOTF8pkqKPzHkcxZs-Q</td>\n",
              "      <td>3lHTewuKFt5IImbXJoFeDQ</td>\n",
              "      <td>Disappointed in one of your managers.</td>\n",
              "      <td>2021-09-11 19:18:57</td>\n",
              "      <td>0</td>\n",
              "    </tr>\n",
              "    <tr>\n",
              "      <th>908911</th>\n",
              "      <td>1uxtQAuJ2T5Xwa_wp7kUnA</td>\n",
              "      <td>OaGf0Dp56ARhQwIDT90w_g</td>\n",
              "      <td>Great food and service.</td>\n",
              "      <td>2021-10-30 11:54:36</td>\n",
              "      <td>0</td>\n",
              "    </tr>\n",
              "    <tr>\n",
              "      <th>908912</th>\n",
              "      <td>v48Spe6WEpqehsF2xQADpg</td>\n",
              "      <td>hYnMeAO77RGyTtIzUSKYzQ</td>\n",
              "      <td>Love their Cubans!!</td>\n",
              "      <td>2021-11-05 13:18:56</td>\n",
              "      <td>0</td>\n",
              "    </tr>\n",
              "    <tr>\n",
              "      <th>908913</th>\n",
              "      <td>ckqKGM2hl7I9Chp5IpAhkw</td>\n",
              "      <td>s2eyoTuJrcP7I_XyjdhUHQ</td>\n",
              "      <td>Great pizza great price</td>\n",
              "      <td>2021-11-20 16:11:44</td>\n",
              "      <td>0</td>\n",
              "    </tr>\n",
              "    <tr>\n",
              "      <th>908914</th>\n",
              "      <td>4tF1CWdMxvvwpUIgGsDygA</td>\n",
              "      <td>_cb1Vg1NIWry8UA0jyuXnQ</td>\n",
              "      <td>Food is good value but a bit hot!</td>\n",
              "      <td>2021-12-07 22:30:00</td>\n",
              "      <td>0</td>\n",
              "    </tr>\n",
              "  </tbody>\n",
              "</table>\n",
              "<p>908915 rows × 5 columns</p>\n",
              "</div>"
            ],
            "text/plain": [
              "                       user_id             business_id  \\\n",
              "0       AGNUgVwnZUey3gcPCJ76iw  3uLgwr0qeCNMjKenHJwPGQ   \n",
              "1       NBN4MgHP9D3cw--SnauTkA  QoezRbYQncpRqyrLH6Iqjg   \n",
              "2       -copOvldyKh1qr-vzkDEvw  MYoRNLb5chwjQe3c_k37Gg   \n",
              "3       FjMQVZjSqY8syIO-53KFKw  hV-bABTK-glh5wj31ps_Jw   \n",
              "4       ld0AperBXk1h6UbqmM80zw  _uN0OudeJ3Zl_tf6nxg5ww   \n",
              "...                        ...                     ...   \n",
              "908910  eYodOTF8pkqKPzHkcxZs-Q  3lHTewuKFt5IImbXJoFeDQ   \n",
              "908911  1uxtQAuJ2T5Xwa_wp7kUnA  OaGf0Dp56ARhQwIDT90w_g   \n",
              "908912  v48Spe6WEpqehsF2xQADpg  hYnMeAO77RGyTtIzUSKYzQ   \n",
              "908913  ckqKGM2hl7I9Chp5IpAhkw  s2eyoTuJrcP7I_XyjdhUHQ   \n",
              "908914  4tF1CWdMxvvwpUIgGsDygA  _cb1Vg1NIWry8UA0jyuXnQ   \n",
              "\n",
              "                                                     text                date  \\\n",
              "0                          Avengers time with the ladies. 2012-05-18 02:17:21   \n",
              "1       They have lots of good deserts and tasty cuban... 2013-02-05 18:35:10   \n",
              "2                  It's open even when you think it isn't 2013-08-18 00:56:08   \n",
              "3                               Very decent fried chicken 2017-06-27 23:05:38   \n",
              "4                  Appetizers.. platter special for lunch 2012-10-06 19:43:09   \n",
              "...                                                   ...                 ...   \n",
              "908910              Disappointed in one of your managers. 2021-09-11 19:18:57   \n",
              "908911                            Great food and service. 2021-10-30 11:54:36   \n",
              "908912                                Love their Cubans!! 2021-11-05 13:18:56   \n",
              "908913                            Great pizza great price 2021-11-20 16:11:44   \n",
              "908914                  Food is good value but a bit hot! 2021-12-07 22:30:00   \n",
              "\n",
              "        compliment_count  \n",
              "0                      0  \n",
              "1                      0  \n",
              "2                      0  \n",
              "3                      0  \n",
              "4                      0  \n",
              "...                  ...  \n",
              "908910                 0  \n",
              "908911                 0  \n",
              "908912                 0  \n",
              "908913                 0  \n",
              "908914                 0  \n",
              "\n",
              "[908915 rows x 5 columns]"
            ]
          },
          "execution_count": 5,
          "metadata": {},
          "output_type": "execute_result"
        }
      ],
      "source": [
        "tips_df = pd.read_json('/kaggle/input/yelp-dataset/yelp_academic_dataset_tip.json', lines=True)\n",
        "tips_df"
      ]
    },
    {
      "cell_type": "code",
      "execution_count": null,
      "metadata": {
        "execution": {
          "iopub.execute_input": "2024-04-21T07:56:46.263749Z",
          "iopub.status.busy": "2024-04-21T07:56:46.262873Z",
          "iopub.status.idle": "2024-04-21T07:56:46.271226Z",
          "shell.execute_reply": "2024-04-21T07:56:46.270238Z",
          "shell.execute_reply.started": "2024-04-21T07:56:46.263701Z"
        },
        "trusted": true,
        "id": "2RuRwHoDo8Rz",
        "outputId": "ec3e1ca1-226d-4994-f5bf-fac1df63b3c4"
      },
      "outputs": [
        {
          "data": {
            "text/plain": [
              "0                       Avengers time with the ladies.\n",
              "1    They have lots of good deserts and tasty cuban...\n",
              "2               It's open even when you think it isn't\n",
              "3                            Very decent fried chicken\n",
              "4               Appetizers.. platter special for lunch\n",
              "Name: text, dtype: object"
            ]
          },
          "execution_count": 84,
          "metadata": {},
          "output_type": "execute_result"
        }
      ],
      "source": [
        "text=tips_df[\"text\"]\n",
        "text.head()"
      ]
    },
    {
      "cell_type": "code",
      "execution_count": null,
      "metadata": {
        "execution": {
          "iopub.execute_input": "2024-04-21T07:56:43.281774Z",
          "iopub.status.busy": "2024-04-21T07:56:43.281065Z",
          "iopub.status.idle": "2024-04-21T07:56:43.288318Z",
          "shell.execute_reply": "2024-04-21T07:56:43.287126Z",
          "shell.execute_reply.started": "2024-04-21T07:56:43.281742Z"
        },
        "trusted": true,
        "id": "lH-aFi5Ho8R0"
      },
      "outputs": [],
      "source": [
        "def preprocess(texts):\n",
        "    tokenized_texts = [word_tokenize(x.lower()) for x in texts]\n",
        "\n",
        "    processed_texts = []\n",
        "    for tokens in tokenized_texts:\n",
        "        processed_tokens = [lemmatizer.lemmatize(token) for token in tokens\n",
        "                            if token.isalpha() and token not in stop_words and\n",
        "                            re.match(\"^[a-z]{3,}$\", token)]\n",
        "        processed_texts.append(processed_tokens)\n",
        "        unique_texts = [np.unique(doc).tolist() for doc in processed_texts]\n",
        "\n",
        "    return unique_texts"
      ]
    },
    {
      "cell_type": "code",
      "execution_count": null,
      "metadata": {
        "execution": {
          "iopub.execute_input": "2024-04-21T07:56:47.621894Z",
          "iopub.status.busy": "2024-04-21T07:56:47.621555Z",
          "iopub.status.idle": "2024-04-21T07:56:47.985481Z",
          "shell.execute_reply": "2024-04-21T07:56:47.984550Z",
          "shell.execute_reply.started": "2024-04-21T07:56:47.621865Z"
        },
        "trusted": true,
        "id": "omkGsI_Po8R1"
      },
      "outputs": [],
      "source": [
        "text=preprocess(text)"
      ]
    },
    {
      "cell_type": "code",
      "execution_count": null,
      "metadata": {
        "execution": {
          "iopub.execute_input": "2024-04-21T07:56:48.171931Z",
          "iopub.status.busy": "2024-04-21T07:56:48.171617Z",
          "iopub.status.idle": "2024-04-21T07:56:48.179320Z",
          "shell.execute_reply": "2024-04-21T07:56:48.178368Z",
          "shell.execute_reply.started": "2024-04-21T07:56:48.171905Z"
        },
        "trusted": true,
        "id": "0CEyRO9ao8R1",
        "outputId": "b42a6019-a054-4d66-9279-8c69aa00fd7c"
      },
      "outputs": [
        {
          "data": {
            "text/plain": [
              "[['avenger', 'lady', 'time'],\n",
              " ['cuban', 'desert', 'good', 'lot', 'sandwich', 'tasty'],\n",
              " ['even', 'open', 'think'],\n",
              " ['chicken', 'decent', 'fried'],\n",
              " ['lunch', 'platter', 'special'],\n",
              " ['cheeseburger',\n",
              "  'chili',\n",
              "  'cup',\n",
              "  'far',\n",
              "  'onion',\n",
              "  'pickle',\n",
              "  'relish',\n",
              "  'single',\n",
              "  'vanilla'],\n",
              " ['center',\n",
              "  'city',\n",
              "  'dec',\n",
              "  'decorated',\n",
              "  'elf',\n",
              "  'great',\n",
              "  'kid',\n",
              "  'leave',\n",
              "  'lindenwold',\n",
              "  'make',\n",
              "  'patco',\n",
              "  'ride',\n",
              "  'santa',\n",
              "  'saturday',\n",
              "  'silver',\n",
              "  'sleigh',\n",
              "  'stop',\n",
              "  'train'],\n",
              " ['area',\n",
              "  'best',\n",
              "  'cool',\n",
              "  'eat',\n",
              "  'game',\n",
              "  'place',\n",
              "  'probably',\n",
              "  'spring',\n",
              "  'watch'],\n",
              " ['taco'],\n",
              " ['boring', 'downtown', 'never', 'starbucks', 'substitute', 'tampa', 'ugh']]"
            ]
          },
          "execution_count": 86,
          "metadata": {},
          "output_type": "execute_result"
        }
      ],
      "source": [
        "text[:10]"
      ]
    },
    {
      "cell_type": "code",
      "execution_count": null,
      "metadata": {
        "execution": {
          "iopub.execute_input": "2024-04-21T07:56:50.740890Z",
          "iopub.status.busy": "2024-04-21T07:56:50.739993Z",
          "iopub.status.idle": "2024-04-21T07:56:51.903651Z",
          "shell.execute_reply": "2024-04-21T07:56:51.902698Z",
          "shell.execute_reply.started": "2024-04-21T07:56:50.740855Z"
        },
        "trusted": true,
        "id": "fPkUXAkwo8R2",
        "outputId": "70f6c668-2da3-459c-d02f-17b2b9764745"
      },
      "outputs": [
        {
          "data": {
            "text/plain": [
              "(4878, 5650)"
            ]
          },
          "execution_count": 87,
          "metadata": {},
          "output_type": "execute_result"
        }
      ],
      "source": [
        "model = FastText(vector_size=100, window=3, min_count=1)  # You can adjust these parameters\n",
        "model.build_vocab(corpus_iterable=text)\n",
        "model.train(corpus_iterable=text, total_examples=len(text), epochs=5)  # Train model\n"
      ]
    },
    {
      "cell_type": "code",
      "execution_count": null,
      "metadata": {
        "execution": {
          "iopub.execute_input": "2024-04-21T07:57:02.711708Z",
          "iopub.status.busy": "2024-04-21T07:57:02.710629Z",
          "iopub.status.idle": "2024-04-21T07:57:02.718531Z",
          "shell.execute_reply": "2024-04-21T07:57:02.716696Z",
          "shell.execute_reply.started": "2024-04-21T07:57:02.711660Z"
        },
        "trusted": true,
        "id": "ILIDDy23o8R2",
        "outputId": "5c2c3749-6a2f-4198-c461-e0f2b0456c40"
      },
      "outputs": [
        {
          "name": "stdout",
          "output_type": "stream",
          "text": [
            "[('applicable', 0.30653321743011475), ('charging', 0.26331841945648193), ('pancake', 0.2626161575317383), ('want', 0.25497350096702576), ('horrible', 0.2387227714061737)]\n"
          ]
        }
      ],
      "source": [
        "print(model.wv.most_similar('accessible', topn=5))\n"
      ]
    },
    {
      "cell_type": "code",
      "execution_count": null,
      "metadata": {
        "execution": {
          "iopub.execute_input": "2024-04-21T07:20:20.205281Z",
          "iopub.status.busy": "2024-04-21T07:20:20.204588Z",
          "iopub.status.idle": "2024-04-21T07:21:54.895198Z",
          "shell.execute_reply": "2024-04-21T07:21:54.894219Z",
          "shell.execute_reply.started": "2024-04-21T07:20:20.205251Z"
        },
        "trusted": true,
        "id": "DfEDTn-mo8R3",
        "outputId": "0cc1253f-3841-46d4-bfed-157318b42676"
      },
      "outputs": [
        {
          "name": "stdout",
          "output_type": "stream",
          "text": [
            "--2024-04-21 07:20:21--  https://dl.fbaipublicfiles.com/fasttext/vectors-crawl/cc.en.300.bin.gz\n",
            "Resolving dl.fbaipublicfiles.com (dl.fbaipublicfiles.com)... 3.162.163.34, 3.162.163.11, 3.162.163.51, ...\n",
            "Connecting to dl.fbaipublicfiles.com (dl.fbaipublicfiles.com)|3.162.163.34|:443... connected.\n",
            "HTTP request sent, awaiting response... 200 OK\n",
            "Length: 4503593528 (4.2G) [application/octet-stream]\n",
            "Saving to: 'cc.en.300.bin.gz'\n",
            "\n",
            "cc.en.300.bin.gz    100%[===================>]   4.19G  50.3MB/s    in 93s     \n",
            "\n",
            "2024-04-21 07:21:54 (46.1 MB/s) - 'cc.en.300.bin.gz' saved [4503593528/4503593528]\n",
            "\n"
          ]
        }
      ],
      "source": [
        "! wget https://dl.fbaipublicfiles.com/fasttext/vectors-crawl/cc.en.300.bin.gz\n"
      ]
    },
    {
      "cell_type": "code",
      "execution_count": null,
      "metadata": {
        "execution": {
          "iopub.execute_input": "2024-04-21T07:28:40.418442Z",
          "iopub.status.busy": "2024-04-21T07:28:40.418056Z",
          "iopub.status.idle": "2024-04-21T07:31:21.858904Z",
          "shell.execute_reply": "2024-04-21T07:31:21.831452Z",
          "shell.execute_reply.started": "2024-04-21T07:28:40.418415Z"
        },
        "trusted": true,
        "id": "Lq4kw98Vo8R3"
      },
      "outputs": [],
      "source": [
        "!gunzip cc.en.300.bin.gz\n",
        "pretrained_model = load_facebook_model('cc.en.300.bin')"
      ]
    },
    {
      "cell_type": "code",
      "execution_count": null,
      "metadata": {
        "execution": {
          "iopub.execute_input": "2024-04-21T07:57:24.654637Z",
          "iopub.status.busy": "2024-04-21T07:57:24.654245Z",
          "iopub.status.idle": "2024-04-21T07:57:24.804482Z",
          "shell.execute_reply": "2024-04-21T07:57:24.803407Z",
          "shell.execute_reply.started": "2024-04-21T07:57:24.654608Z"
        },
        "trusted": true,
        "id": "s6CNCNAAo8R4",
        "outputId": "ebb04ebf-6de8-41ca-b746-10177818b506"
      },
      "outputs": [
        {
          "name": "stdout",
          "output_type": "stream",
          "text": [
            "[('Applicable', 0.6904053688049316), ('applicable.', 0.6230201125144958), ('applies', 0.6188273429870605), ('aplicable', 0.599993109703064), ('apply', 0.5862610340118408)]\n"
          ]
        }
      ],
      "source": [
        "print(pretrained_model.wv.most_similar('applicable', topn=5))\n"
      ]
    },
    {
      "cell_type": "code",
      "execution_count": null,
      "metadata": {
        "execution": {
          "iopub.execute_input": "2024-04-21T07:57:29.407859Z",
          "iopub.status.busy": "2024-04-21T07:57:29.406807Z",
          "iopub.status.idle": "2024-04-21T07:57:32.176657Z",
          "shell.execute_reply": "2024-04-21T07:57:32.175509Z",
          "shell.execute_reply.started": "2024-04-21T07:57:29.407822Z"
        },
        "trusted": true,
        "id": "3kmO75DAo8R4",
        "outputId": "656debfa-2f9f-4877-8e19-1b702966b2db"
      },
      "outputs": [
        {
          "name": "stdout",
          "output_type": "stream",
          "text": [
            "Analyzing word: sure\n",
            "\n",
            "Top 10 similar custom:\n",
            "[('nationalchampionship', 0.278647780418396), ('surf', 0.27812477946281433), ('happy', 0.26771020889282227), ('time', 0.2662510573863983), ('duck', 0.2630116939544678), ('sharing', 0.2608787417411804), ('section', 0.24854148924350739), ('friend', 0.23082534968852997), ('pint', 0.22835716605186462), ('citrus', 0.22148163616657257)]\n",
            "\n",
            "Top 10 opposite words custom:\n",
            "[('tso', 0.3547079265117645), ('also', 0.2826908230781555), ('tumbler', 0.26321595907211304), ('tampa', 0.25842249393463135), ('wow', 0.2527604103088379), ('yuenglings', 0.23469053208827972), ('room', 0.22028714418411255), ('event', 0.21940293908119202), ('decorated', 0.2192789614200592), ('staff', 0.2037043273448944)]\n",
            "\n",
            "Top 10 similar words pretrained_model:\n",
            "[('know', 0.6217837333679199), ('aware', 0.619627058506012), ('glad', 0.6129971742630005), ('guessing', 0.6074269413948059), ('think', 0.599117636680603), ('sure.If', 0.597610354423523), ('not', 0.5841030478477478), ('guess', 0.5815247297286987), ('make', 0.5808480978012085), ('sure.I', 0.5782915949821472)]\n",
            "\n",
            "Top 10 opposite words pretrained_model:\n",
            "[('University-Based', 0.23584069311618805), ('Technological', 0.2248784452676773), ('.Area', 0.21689464151859283), ('AReviews', 0.21245762705802917), ('Vocalic', 0.2117946892976761), ('Interrelations', 0.21136552095413208), ('NIAMEY', 0.21107755601406097), ('TPTS', 0.21052461862564087), ('pain1', 0.2093820422887802), ('arnulfo', 0.2091163843870163)]\n",
            "\n",
            "-----------------------------------------\n",
            "\n",
            "Analyzing word: perfect\n",
            "\n",
            "Top 10 similar custom:\n",
            "[('effect', 0.325265496969223), ('pls', 0.3083992898464203), ('incorrect', 0.28731533885002136), ('shrimp', 0.26139742136001587), ('decorated', 0.25525087118148804), ('kid', 0.24773336946964264), ('cheese', 0.22861166298389435), ('pepper', 0.22788795828819275), ('awesome', 0.22603736817836761), ('roll', 0.21030749380588531)]\n",
            "\n",
            "Top 10 opposite words custom:\n",
            "[('clothes', 0.27430543303489685), ('cancer', 0.2565917670726776), ('dish', 0.2377222776412964), ('single', 0.2366243451833725), ('phone', 0.2273923009634018), ('catch', 0.22034507989883423), ('intended', 0.21522246301174164), ('soup', 0.21194200217723846), ('nashville', 0.21165232360363007), ('rude', 0.21007607877254486)]\n",
            "\n",
            "Top 10 similar words pretrained_model:\n",
            "[('pefect', 0.796021044254303), ('ideal', 0.7536563277244568), ('PERFECT', 0.7066129446029663), ('Perfect', 0.6758617162704468), ('perfet', 0.6426816582679749), ('perect', 0.6299155354499817), ('perfect.This', 0.6064984798431396), ('near-perfect', 0.6063604950904846), ('perfec', 0.5992122292518616), ('great', 0.598800778388977)]\n",
            "\n",
            "Top 10 opposite words pretrained_model:\n",
            "[('CompaniesRelated', 0.2518583834171295), ('Stories3', 0.23017975687980652), ('.Member', 0.22794422507286072), ('10General', 0.22106732428073883), ('2012General', 0.2208869606256485), ('Reprintas', 0.21858425438404083), ('Politics2', 0.21340760588645935), ('RCJ', 0.21304389834403992), ('12877', 0.21299457550048828), ('PlusNews', 0.2127208709716797)]\n",
            "\n",
            "-----------------------------------------\n",
            "\n",
            "Analyzing word: best\n",
            "\n",
            "Top 10 similar custom:\n",
            "[('thai', 0.2924020290374756), ('band', 0.28955334424972534), ('bang', 0.28648337721824646), ('usually', 0.27358829975128174), ('biryani', 0.24938440322875977), ('stop', 0.24600882828235626), ('seat', 0.24189326167106628), ('hotlight', 0.23753193020820618), ('clean', 0.23323526978492737), ('self', 0.23055711388587952)]\n",
            "\n",
            "Top 10 opposite words custom:\n",
            "[('lunch', 0.3706589937210083), ('effect', 0.2862803041934967), ('train', 0.2719404995441437), ('small', 0.2695409655570984), ('sits', 0.2582869529724121), ('pls', 0.2528747320175171), ('cheese', 0.24786336719989777), ('rice', 0.23916420340538025), ('neck', 0.22658324241638184), ('cream', 0.21429310739040375)]\n",
            "\n",
            "Top 10 similar words pretrained_model:\n",
            "[('finest', 0.6486100554466248), ('worst', 0.634868860244751), ('safest', 0.6296610832214355), ('greatest', 0.6281462907791138), ('easiest', 0.6160523891448975), ('quickest', 0.6046802401542664), ('Best', 0.5982258915901184), ('smartest', 0.5959286093711853), ('BEST', 0.5933231711387634), ('best-', 0.5853952169418335)]\n",
            "\n",
            "Top 10 opposite words pretrained_model:\n",
            "[('09-7', 0.24331645667552948), ('.Aug', 0.2377355843782425), ('NABLUS', 0.2360970377922058), ('sqlrob', 0.2288963347673416), ('US00', 0.22838731110095978), ('1971Apr', 0.22575166821479797), ('S138', 0.22409164905548096), ('1959Nov', 0.22153763473033905), ('129Sv', 0.22096069157123566), ('1955Aug', 0.22052057087421417)]\n",
            "\n",
            "-----------------------------------------\n",
            "\n",
            "Analyzing word: get\n",
            "\n",
            "Top 10 similar custom:\n",
            "[('carpet', 0.372906893491745), ('powder', 0.30056533217430115), ('duchess', 0.26350125670433044), ('right', 0.25973260402679443), ('resort', 0.2444692850112915), ('snack', 0.23304127156734467), ('dec', 0.22960984706878662), ('let', 0.22618098556995392), ('tonight', 0.22432458400726318), ('buffet', 0.22129394114017487)]\n",
            "\n",
            "Top 10 opposite words custom:\n",
            "[('beer', 0.25181737542152405), ('bang', 0.2467314749956131), ('ncaa', 0.2437310516834259), ('santa', 0.2370595932006836), ('location', 0.23598319292068481), ('bank', 0.23261938989162445), ('locally', 0.23007123172283173), ('wait', 0.22543354332447052), ('band', 0.22428153455257416), ('italian', 0.22001175582408905)]\n",
            "\n",
            "Top 10 similar words pretrained_model:\n",
            "[('getting', 0.7321418523788452), ('got', 0.7278972864151001), ('want', 0.6698721647262573), ('gets', 0.6662424206733704), ('gotten', 0.6566725373268127), ('need', 0.6268330216407776), ('give', 0.6240376830101013), ('can', 0.5999609231948853), ('try', 0.5948155522346497), ('take', 0.5925464630126953)]\n",
            "\n",
            "Top 10 opposite words pretrained_model:\n",
            "[('1988-2010', 0.2249593436717987), ('States8', 0.22268392145633698), ('1984-2011', 0.21614199876785278), ('1970-1994', 0.21378694474697113), ('20042005', 0.20984475314617157), ('2005-09', 0.20937713980674744), ('1982-2010', 0.20887431502342224), ('A.S.F.', 0.20845137536525726), ('studies.1', 0.20611290633678436), ('2002-11', 0.2056562304496765)]\n",
            "\n",
            "-----------------------------------------\n",
            "\n",
            "Analyzing word: two\n",
            "\n",
            "Top 10 similar custom:\n",
            "[('eat', 0.2442592829465866), ('haiku', 0.2409173846244812), ('brentwood', 0.23459869623184204), ('glass', 0.23377390205860138), ('rice', 0.23140490055084229), ('service', 0.21377313137054443), ('burrito', 0.2118518054485321), ('massage', 0.20093248784542084), ('come', 0.1959911733865738), ('tzatziki', 0.19588927924633026)]\n",
            "\n",
            "Top 10 opposite words custom:\n",
            "[('taco', 0.3021996021270752), ('fall', 0.2802201211452484), ('today', 0.27527278661727905), ('tartare', 0.2688392698764801), ('italian', 0.26145851612091064), ('olympics', 0.23864483833312988), ('friday', 0.220722496509552), ('kabob', 0.21723416447639465), ('monday', 0.21714727580547333), ('friend', 0.211928591132164)]\n",
            "\n",
            "Top 10 similar words pretrained_model:\n",
            "[('three', 0.9429407715797424), ('four', 0.9011496901512146), ('five', 0.8222106099128723), ('six', 0.8214924335479736), ('eight', 0.7891013026237488), ('seven', 0.7861132621765137), ('several', 0.7689812183380127), ('nine', 0.7497504353523254), ('couple', 0.7148709297180176), ('eleven', 0.7082380056381226)]\n",
            "\n",
            "Top 10 opposite words pretrained_model:\n",
            "[('\\U00100068', 0.232223242521286), ('\\U00100077', 0.22810399532318115), ('\\U00100069', 0.22181858122348785), ('\\U00100042', 0.21470117568969727), ('\\U0010004e', 0.20896075665950775), ('\\U00100065', 0.20791134238243103), ('\\U00100071', 0.2058854103088379), ('\\U0010005a', 0.20543770492076874), ('--Marketing', 0.20540489256381989), ('--Shout', 0.20489096641540527)]\n",
            "\n",
            "-----------------------------------------\n",
            "\n",
            "Analyzing word: want\n",
            "\n",
            "Top 10 similar custom:\n",
            "[('wait', 0.2988213300704956), ('blackened', 0.2788104712963104), ('cut', 0.2750103175640106), ('definitely', 0.2614753544330597), ('accessible', 0.25497347116470337), ('shrimp', 0.2448427528142929), ('terrible', 0.244450643658638), ('went', 0.24368907511234283), ('heberts', 0.24329136312007904), ('plant', 0.23761147260665894)]\n",
            "\n",
            "Top 10 opposite words custom:\n",
            "[('peruvian', 0.31917062401771545), ('anniversary', 0.28010720014572144), ('like', 0.26344019174575806), ('tartare', 0.25402456521987915), ('turkey', 0.23994901776313782), ('draft', 0.23659272491931915), ('order', 0.227519690990448), ('moist', 0.2274796962738037), ('tcj', 0.2075260877609253), ('atmosphere', 0.20206362009048462)]\n",
            "\n",
            "Top 10 similar words pretrained_model:\n",
            "[('need', 0.7604223489761353), ('don', 0.7354798913002014), ('know', 0.7195227742195129), ('wanna', 0.7181111574172974), ('you', 0.7052967548370361), ('get', 0.6698721051216125), ('wnat', 0.6695107221603394), ('can', 0.6654353737831116), ('wanted', 0.6601189374923706), ('decide', 0.6545559763908386)]\n",
            "\n",
            "Top 10 opposite words pretrained_model:\n",
            "[('77.54', 0.21001403033733368), ('WNRC', 0.20716452598571777), ('Reconstitution', 0.20489364862442017), ('EHAC', 0.20272381603717804), ('20112012', 0.20240022242069244), ('1986-2009', 0.19923537969589233), ('20072008', 0.19736407697200775), ('20042005', 0.19725382328033447), ('February-1', 0.19719338417053223), ('1927-30', 0.19628742337226868)]\n",
            "\n",
            "-----------------------------------------\n",
            "\n",
            "Analyzing word: deal\n",
            "\n",
            "Top 10 similar custom:\n",
            "[('coconut', 0.34648239612579346), ('turkey', 0.31523507833480835), ('salty', 0.29584816098213196), ('dive', 0.29428333044052124), ('turf', 0.28859061002731323), ('real', 0.2822292447090149), ('since', 0.2531832456588745), ('way', 0.24957196414470673), ('try', 0.24751530587673187), ('turn', 0.2456817328929901)]\n",
            "\n",
            "Top 10 opposite words custom:\n",
            "[('bean', 0.2639886438846588), ('cute', 0.26267194747924805), ('music', 0.2614860534667969), ('cheese', 0.2570255994796753), ('america', 0.25276950001716614), ('choice', 0.2429286539554596), ('mojitos', 0.2374679297208786), ('elf', 0.23493315279483795), ('lobster', 0.22282399237155914), ('water', 0.22138795256614685)]\n",
            "\n",
            "Top 10 similar words pretrained_model:\n",
            "[('deals', 0.6778363585472107), ('deal.Now', 0.6466372609138489), ('deal.But', 0.6371392011642456), ('deal.The', 0.6356582045555115), ('deal.It', 0.6355753540992737), ('deal.This', 0.6249505877494812), ('deal.And', 0.6166706681251526), ('deal.That', 0.6139063835144043), ('deal.What', 0.6135867834091187), ('deal.As', 0.6132265329360962)]\n",
            "\n",
            "Top 10 opposite words pretrained_model:\n",
            "[('简化字', 0.23472322523593903), ('ChurchSunday', 0.22702087461948395), ('3,5,3', 0.22365731000900269), ('2016UP', 0.22269563376903534), ('SchoolGrade', 0.21866995096206665), ('C219', 0.21862483024597168), ('200910', 0.2164030820131302), ('pm210', 0.216241255402565), ('www.nfhs.org', 0.2148817926645279), ('Queens9', 0.2144710123538971)]\n",
            "\n",
            "-----------------------------------------\n",
            "\n",
            "Analyzing word: nap\n",
            "\n",
            "Top 10 similar custom:\n",
            "[('pressed', 0.3767429292201996), ('nail', 0.28407391905784607), ('tap', 0.2782136797904968), ('take', 0.27273303270339966), ('passion', 0.2626131772994995), ('even', 0.25689902901649475), ('atmosphere', 0.25246647000312805), ('bank', 0.2296297550201416), ('last', 0.2272644340991974), ('tennessee', 0.22228994965553284)]\n",
            "\n",
            "Top 10 opposite words custom:\n",
            "[('sonoran', 0.31857380270957947), ('delivery', 0.289670467376709), ('ownership', 0.27623143792152405), ('swim', 0.2557545006275177), ('train', 0.24551640450954437), ('everyone', 0.24370774626731873), ('everything', 0.23637156188488007), ('def', 0.23268021643161774), ('card', 0.23252804577350616), ('cut', 0.2310340851545334)]\n",
            "\n",
            "Top 10 similar words pretrained_model:\n",
            "[('naps', 0.8630385994911194), ('cat-nap', 0.7853691577911377), ('naptime', 0.782001256942749), ('napping', 0.7595776319503784), ('catnap', 0.7567870616912842), ('nap.I', 0.7565943002700806), ('nap.', 0.7499308586120605), ('post-nap', 0.7431070804595947), ('pre-nap', 0.7299379110336304), ('nap-', 0.7221440076828003)]\n",
            "\n",
            "Top 10 opposite words pretrained_model:\n",
            "[('NABCO', 0.20163396000862122), ('Non-USA', 0.1936347931623459), ('WORLDPAC', 0.1890227496623993), ('DataPath', 0.18901239335536957), ('IMBs', 0.18799513578414917), ('OpenClose', 0.1847161054611206), ('AbanteCart', 0.18438875675201416), ('TARGETING', 0.181788831949234), ('AMPLIFICATION', 0.1799577921628952), ('UCAM', 0.17918707430362701)]\n",
            "\n",
            "-----------------------------------------\n",
            "\n",
            "Analyzing word: work\n",
            "\n",
            "Top 10 similar custom:\n",
            "[('workout', 0.5132104754447937), ('working', 0.40241655707359314), ('worth', 0.34380602836608887), ('drive', 0.3142545223236084), ('excellent', 0.2978195548057556), ('snack', 0.2919483482837677), ('sausage', 0.2782815098762512), ('authentic', 0.2598409354686737), ('pressed', 0.2588091492652893), ('red', 0.2534972131252289)]\n",
            "\n",
            "Top 10 opposite words custom:\n",
            "[('cup', 0.32038256525993347), ('moist', 0.2702634930610657), ('market', 0.2700110673904419), ('cute', 0.25706538558006287), ('benedict', 0.2285616248846054), ('avenger', 0.226697638630867), ('know', 0.21655814349651337), ('area', 0.2157890647649765), ('yum', 0.2120562195777893), ('night', 0.21135981380939484)]\n",
            "\n",
            "Top 10 similar words pretrained_model:\n",
            "[('working', 0.7022090554237366), ('works', 0.6820166110992432), ('work.But', 0.5918643474578857), ('Work', 0.583113968372345), ('work.The', 0.5738800764083862), ('job', 0.5732675194740295), ('worked', 0.5726459622383118), ('work.I', 0.5692119598388672), ('work.It', 0.563040554523468), ('work.However', 0.5609820485115051)]\n",
            "\n",
            "Top 10 opposite words pretrained_model:\n",
            "[('20Table', 0.23643478751182556), ('102012', 0.2300974726676941), ('28Table', 0.22960981726646423), ('RGLS', 0.22879962623119354), ('0.639', 0.22828251123428345), ('Record-Low', 0.22737258672714233), ('49869', 0.22668594121932983), ('30Table', 0.22599856555461884), ('4Section', 0.2241232991218567), ('293.0', 0.22376634180545807)]\n",
            "\n",
            "-----------------------------------------\n",
            "\n",
            "Analyzing word: maduros\n",
            "\n",
            "Top 10 similar custom:\n",
            "[('surf', 0.36151328682899475), ('thursday', 0.3187030255794525), ('past', 0.2738789916038513), ('mad', 0.27139759063720703), ('kabob', 0.26992616057395935), ('substitute', 0.2661266326904297), ('gluten', 0.24338820576667786), ('home', 0.23653966188430786), ('kid', 0.2302584946155548), ('hour', 0.22603334486484528)]\n",
            "\n",
            "Top 10 opposite words custom:\n",
            "[('vegetarian', 0.2461102306842804), ('combo', 0.24490685760974884), ('wait', 0.24454908072948456), ('short', 0.23831792175769806), ('average', 0.22839663922786713), ('draft', 0.2216731160879135), ('italian', 0.22080284357070923), ('fooled', 0.21991121768951416), ('fine', 0.21769702434539795), ('glazed', 0.21358050405979156)]\n",
            "\n",
            "Top 10 similar words pretrained_model:\n",
            "[('Maduros', 0.8407581448554993), ('maduro', 0.8279734253883362), ('robustos', 0.6976006031036377), ('habano', 0.6952353715896606), ('corojo', 0.6943063139915466), ('lancero', 0.6754811406135559), ('robusto', 0.663729727268219), ('RyJ', 0.65800940990448), ('figurado', 0.645923376083374), ('belicoso', 0.6443975567817688)]\n",
            "\n",
            "Top 10 opposite words pretrained_model:\n",
            "[('Freeborn', 0.20478345453739166), ('Holtom', 0.1940155178308487), ('Ippen', 0.1892230212688446), ('KARE', 0.18838712573051453), ('Ratzel', 0.18742354214191437), ('Kidscape', 0.18549515306949615), ('TyneNorth', 0.1840478479862213), ('Maryn', 0.18182526528835297), ('Goodchild', 0.17783527076244354), ('organisation', 0.1775134652853012)]\n",
            "\n",
            "-----------------------------------------\n",
            "\n"
          ]
        }
      ],
      "source": [
        "all_words = [x for sublist in text for x in sublist]\n",
        "random_words = random.sample(all_words, 10)# Select 10 random words from the list 'all_words'\n",
        "\n",
        "for word in random_words:\n",
        "\n",
        "    print(f\"Analyzing word: {word}\\n\")\n",
        "\n",
        "    similar_custom = model.wv.most_similar(word, topn=10)\n",
        "    opposite_custom = model.wv.most_similar(negative=[word], topn=10)\n",
        "    similar_pretrained = pretrained_model.wv.most_similar(word, topn=10)\n",
        "    opposite_pretrained = pretrained_model.wv.most_similar(negative=[word], topn=10)\n",
        "\n",
        "    print(\"Top 10 similar custom:\")\n",
        "    print(similar_custom)\n",
        "    print(\"\\nTop 10 opposite words custom:\")\n",
        "    print(opposite_custom)\n",
        "    print(\"\\nTop 10 similar words pretrained_model:\")\n",
        "    print(similar_pretrained)\n",
        "    print(\"\\nTop 10 opposite words pretrained_model:\")\n",
        "    print(opposite_pretrained)\n",
        "    print(\"\\n-----------------------------------------\\n\")\n"
      ]
    },
    {
      "cell_type": "code",
      "execution_count": null,
      "metadata": {
        "execution": {
          "iopub.execute_input": "2024-04-21T08:15:49.914896Z",
          "iopub.status.busy": "2024-04-21T08:15:49.914514Z",
          "iopub.status.idle": "2024-04-21T08:15:52.708300Z",
          "shell.execute_reply": "2024-04-21T08:15:52.706864Z",
          "shell.execute_reply.started": "2024-04-21T08:15:49.914865Z"
        },
        "trusted": true,
        "id": "0G4XKcSso8R4"
      },
      "outputs": [],
      "source": [
        "import random\n",
        "from reportlab.lib.pagesizes import letter\n",
        "from reportlab.pdfgen import canvas\n",
        "from reportlab.lib import colors\n",
        "\n",
        "def collect_comparison_data(text, model, pretrained_model):\n",
        "    comparison_data = {}\n",
        "\n",
        "    for word in text:\n",
        "        comparison_data[word] = {\n",
        "            'similar_custom': model.wv.most_similar(word, topn=10),\n",
        "            'opposite_custom': model.wv.most_similar(negative=[word], topn=10),\n",
        "            'similar_pretrained': pretrained_model.wv.most_similar(word, topn=10),\n",
        "            'opposite_pretrained': pretrained_model.wv.most_similar(negative=[word], topn=10),\n",
        "        }\n",
        "\n",
        "    return comparison_data\n",
        "\n",
        "comparison_data = collect_comparison_data(random_words, model, pretrained_model)\n",
        "\n",
        "pdf_path = \"word_comparison_report.pdf\"\n",
        "c = canvas.Canvas(pdf_path, pagesize=letter)\n",
        "width, height = letter\n",
        "\n",
        "c.setFont(\"Helvetica-Bold\", 16)\n",
        "c.drawCentredString(width / 2, height - 40, \"Word Embedding Comparison Report\")\n",
        "\n",
        "y_position = height - 70\n",
        "\n",
        "c.setFont(\"Helvetica\", 10)\n",
        "\n",
        "for word, comparisons in comparison_data.items():\n",
        "    c.drawString(50, y_position, f\"Word: '{word}'\")\n",
        "    y_position -= 14\n",
        "\n",
        "    for comp_type, results in comparisons.items():\n",
        "        c.drawString(60, y_position, f\"{comp_type.replace('_', ' ').title()}:\")\n",
        "        y_position -= 10\n",
        "\n",
        "        for similar_word, score in results:\n",
        "            c.drawString(70, y_position, f\"{similar_word} (score: {score:.2f})\")\n",
        "            y_position -= 10\n",
        "\n",
        "        y_position -= 5\n",
        "\n",
        "    if y_position < 50:\n",
        "        c.showPage()\n",
        "        y_position = height - 50\n",
        "        c.setFont(\"Helvetica\", 10)\n",
        "\n",
        "    y_position -= 10\n",
        "\n",
        "c.save()\n"
      ]
    },
    {
      "cell_type": "markdown",
      "metadata": {
        "id": "q1p3vQGco8R5"
      },
      "source": [
        "![image.png](attachment:3610efbb-a966-4638-8de2-594d0384e22e.png)"
      ]
    }
  ],
  "metadata": {
    "kaggle": {
      "accelerator": "nvidiaTeslaT4",
      "dataSources": [
        {
          "datasetId": 10100,
          "sourceId": 3316532,
          "sourceType": "datasetVersion"
        }
      ],
      "dockerImageVersionId": 30699,
      "isGpuEnabled": true,
      "isInternetEnabled": true,
      "language": "python",
      "sourceType": "notebook"
    },
    "kernelspec": {
      "display_name": "Python 3",
      "language": "python",
      "name": "python3"
    },
    "language_info": {
      "codemirror_mode": {
        "name": "ipython",
        "version": 3
      },
      "file_extension": ".py",
      "mimetype": "text/x-python",
      "name": "python",
      "nbconvert_exporter": "python",
      "pygments_lexer": "ipython3",
      "version": "3.10.13"
    },
    "colab": {
      "provenance": [],
      "include_colab_link": true
    }
  },
  "nbformat": 4,
  "nbformat_minor": 0
}